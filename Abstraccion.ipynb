{
  "cells": [
    {
      "cell_type": "markdown",
      "metadata": {
        "id": "vM5xVMezOPQO"
      },
      "source": [
        "**ABSTRACCION**"
      ]
    },
    {
      "cell_type": "markdown",
      "metadata": {
        "id": "mNlp_B4eOMuz"
      },
      "source": [
        "La **Abstracción** (del latín abstrahere, 'alejar, sustraer, separar') es una operación mental destinada a aislar conceptualmente una propiedad o función concreta de un objeto, y pensar qué es, ignorando otras propiedades del objeto en cuestión."
      ]
    },
    {
      "cell_type": "markdown",
      "metadata": {
        "id": "hcUUY2V75uoJ"
      },
      "source": [
        "**Abstracto** es todo lo que resulta de una abstracción de un destacamento o aislamiento. Es lo que existe sólo en idea, en concepto, en la mente.\n",
        "\n",
        "**Abstracto** tiene como sinónimo indeterminado, indefinido, teórico, ideal, vago e impreciso."
      ]
    },
    {
      "cell_type": "markdown",
      "metadata": {
        "id": "7tnB8NAZOYfX"
      },
      "source": [
        "En gramática, los sustantivos abstractos son los que designan acciones, cualidades o estados, y que no tienen existencia física propia, sólo existen en la concepción de la mente. Ejemplos: la bondad, la belleza, la justicia, el amor, la ira, etc."
      ]
    },
    {
      "cell_type": "code",
      "execution_count": 1,
      "metadata": {
        "colab": {
          "base_uri": "https://localhost:8080/"
        },
        "id": "VbZpL-H68cK8",
        "outputId": "a65e4367-9665-4641-bac9-5d932fc40acd"
      },
      "outputs": [
        {
          "name": "stdout",
          "output_type": "stream",
          "text": [
            "Perro\n"
          ]
        }
      ],
      "source": [
        "class Animal():\n",
        "    \n",
        "    # Primer método\n",
        "    def setNombre(self, nombre):\n",
        "        self.nombre = nombre\n",
        "    \n",
        "    # Segundo método\n",
        "    def getNombre(self):\n",
        "        return self.nombre\n",
        "\n",
        "animal = Animal() # Instancia de nuestra clase\n",
        "animal.setNombre(\"Perro\") # Asignación de nombre\n",
        "print(animal.getNombre())"
      ]
    },
    {
      "cell_type": "markdown",
      "metadata": {
        "id": "YMlewtD87uCz"
      },
      "source": [
        "la abstracción consiste en ocultar toda la complejidad que algo puede tener por dentro, ofreciéndonos unas funciones de alto nivel, por lo general sencillas de usar, que pueden ser usadas para interactuar con la aplicación sin tener conocimiento de lo que hay dentro."
      ]
    },
    {
      "cell_type": "markdown",
      "metadata": {
        "id": "wON4Uo1I7vXc"
      },
      "source": []
    },
    {
      "cell_type": "code",
      "execution_count": 2,
      "metadata": {
        "colab": {
          "base_uri": "https://localhost:8080/",
          "height": 291
        },
        "id": "anRf3Rhq8yr0",
        "outputId": "8955c4d7-ed7f-41cd-af24-835bb6212177"
      },
      "outputs": [
        {
          "ename": "TypeError",
          "evalue": "ignored",
          "output_type": "error",
          "traceback": [
            "\u001b[0;31m---------------------------------------------------------------------------\u001b[0m",
            "\u001b[0;31mTypeError\u001b[0m                                 Traceback (most recent call last)",
            "\u001b[0;32m<ipython-input-2-176b936131e1>\u001b[0m in \u001b[0;36m<module>\u001b[0;34m\u001b[0m\n\u001b[1;32m     23\u001b[0m \u001b[0;34m\u001b[0m\u001b[0m\n\u001b[1;32m     24\u001b[0m \u001b[0;31m#instanciar para probar\u001b[0m\u001b[0;34m\u001b[0m\u001b[0;34m\u001b[0m\u001b[0;34m\u001b[0m\u001b[0m\n\u001b[0;32m---> 25\u001b[0;31m \u001b[0mperro\u001b[0m \u001b[0;34m=\u001b[0m \u001b[0mAnimal\u001b[0m\u001b[0;34m(\u001b[0m\u001b[0;34m)\u001b[0m\u001b[0;34m\u001b[0m\u001b[0;34m\u001b[0m\u001b[0m\n\u001b[0m\u001b[1;32m     26\u001b[0m \u001b[0mperro\u001b[0m\u001b[0;34m.\u001b[0m\u001b[0msetName\u001b[0m\u001b[0;34m(\u001b[0m\u001b[0;34m\"jorge\"\u001b[0m\u001b[0;34m)\u001b[0m\u001b[0;34m\u001b[0m\u001b[0;34m\u001b[0m\u001b[0m\n\u001b[1;32m     27\u001b[0m \u001b[0;31m#perro.getName()\u001b[0m\u001b[0;34m\u001b[0m\u001b[0;34m\u001b[0m\u001b[0;34m\u001b[0m\u001b[0m\n",
            "\u001b[0;31mTypeError\u001b[0m: Can't instantiate abstract class Animal with abstract methods getName, setName"
          ]
        }
      ],
      "source": [
        "import abc\n",
        "from abc import ABC\n",
        "\n",
        "# Declaramos nuestra clase\n",
        "# Para crear las clases abstractas, antes debemos importar la librería abc y la clase ABC.\n",
        "class Animal(ABC):\n",
        "   # def __init__(self):\n",
        "   #     __metaclass__ = ABCMeta # Metaclase\n",
        "    \n",
        "    # Primer método\n",
        "    # Decorador para métodos absctractos\n",
        "    @abc.abstractmethod \n",
        "    def setName(self, name):\n",
        "        self.name = name\n",
        "    \n",
        "    # Segundo método\n",
        "    # Decorador para métodos absctractos\n",
        "    @abc.abstractmethod\n",
        "    def getName(self):\n",
        "        return self.name\n",
        "\n",
        "\n",
        "\n",
        "#instanciar para probar\n",
        "perro = Animal()\n",
        "perro.setName(\"jorge\")\n",
        "#perro.getName()"
      ]
    },
    {
      "cell_type": "markdown",
      "metadata": {
        "id": "6kSmcEuy9-bU"
      },
      "source": [
        "Como se puede ver en el ejemplo, a la clase con la que se trabajara (Animal), se hereda la clase ABC, esto es necesario para decirle a Python que la clase Animal es abstracta y no se podrán crear instancias de estas.\n",
        "Luego, para definir que los métodos sean abstractas utilizamos el decorador de abc @abc.abstractmethod, esto para todos los métodos que sean necesarios."
      ]
    },
    {
      "cell_type": "markdown",
      "metadata": {
        "id": "-9y6sQodHilY"
      },
      "source": [
        "**OTRO EJEMPLO**"
      ]
    },
    {
      "cell_type": "code",
      "execution_count": 3,
      "metadata": {
        "colab": {
          "base_uri": "https://localhost:8080/",
          "height": 291
        },
        "id": "VcShA299-AYw",
        "outputId": "f18b5068-f46f-4c8f-f9ef-94886d45b7a8"
      },
      "outputs": [
        {
          "ename": "TypeError",
          "evalue": "ignored",
          "output_type": "error",
          "traceback": [
            "\u001b[0;31m---------------------------------------------------------------------------\u001b[0m",
            "\u001b[0;31mTypeError\u001b[0m                                 Traceback (most recent call last)",
            "\u001b[0;32m<ipython-input-3-a3aacff0eae6>\u001b[0m in \u001b[0;36m<module>\u001b[0;34m\u001b[0m\n\u001b[1;32m      6\u001b[0m     \u001b[0;32mpass\u001b[0m\u001b[0;34m\u001b[0m\u001b[0;34m\u001b[0m\u001b[0m\n\u001b[1;32m      7\u001b[0m \u001b[0;34m\u001b[0m\u001b[0m\n\u001b[0;32m----> 8\u001b[0;31m \u001b[0manimal\u001b[0m\u001b[0;34m=\u001b[0m\u001b[0mAnimal\u001b[0m\u001b[0;34m(\u001b[0m\u001b[0;34m)\u001b[0m\u001b[0;34m\u001b[0m\u001b[0;34m\u001b[0m\u001b[0m\n\u001b[0m\u001b[1;32m      9\u001b[0m \u001b[0manimal\u001b[0m\u001b[0;34m.\u001b[0m\u001b[0mmover\u001b[0m\u001b[0;34m\u001b[0m\u001b[0;34m\u001b[0m\u001b[0m\n\u001b[1;32m     10\u001b[0m \u001b[0;34m\u001b[0m\u001b[0m\n",
            "\u001b[0;31mTypeError\u001b[0m: Can't instantiate abstract class Animal with abstract methods mover"
          ]
        }
      ],
      "source": [
        "from abc import ABC, abstractmethod\n",
        "\n",
        "class Animal(ABC):\n",
        "  @abstractmethod\n",
        "  def mover(self):\n",
        "    pass\n",
        "\n",
        "animal=Animal()\n",
        "animal.mover\n",
        "\n",
        "\n",
        "# No se puede instanciar la clase abstracta Animal con métodos abstractos mover"
      ]
    },
    {
      "cell_type": "markdown",
      "metadata": {
        "id": "mDKB6n202yx3"
      },
      "source": [
        "un concepto importante en programación orientada a objetos es el de las **clases abstractas**. Unas clases en las que se pueden definir tanto métodos como propiedades, pero que no pueden ser instancias directamente. Solamente se pueden usar para construir subclases. Permitiendo así tener una única implementación de los métodos compartidos, evitando la duplicación de código. "
      ]
    },
    {
      "cell_type": "markdown",
      "metadata": {
        "id": "8dVqL_aA3Ewe"
      },
      "source": [
        "**Propiedades de las clases abstractas**\n",
        "1) no puede ser instanciadas. Simplemente proporciona una interfaz para las subclases derivadas y evitando así la duplicación de código.\n",
        "\n",
        "2) no es necesario que tengan una implementación de todos los métodos necesarios. Pudiendo ser estos abstractos. Los métodos abstractos son aquellos que solamente tienen una declaración, pero no una implementación detallada de las funcionalidades.\n",
        "\n",
        "3) Las clases derivadas de las clases abstractas debe implementar necesariamente todos los métodos abstractos para poder crear una clase que se ajuste a la interfaz definida. En el caso de que no se defina alguno de los métodos no se podrá crear la clase.\n",
        "\n",
        "Resumiendo, las clases abstractas define una interfaz común para las subclases. Proporciona atributos y métodos comunes para todas las subclases evitando así la necesidad de duplicar código. Imponiendo además lo métodos que deber ser implementados para evitar inconsistencias entre las subclases."
      ]
    },
    {
      "cell_type": "code",
      "execution_count": 7,
      "metadata": {
        "colab": {
          "base_uri": "https://localhost:8080/",
          "height": 273
        },
        "id": "5DdC8OeE3UYN",
        "outputId": "f30af597-3761-4c91-f072-034e78e4d3dc"
      },
      "outputs": [
        {
          "ename": "TypeError",
          "evalue": "ignored",
          "output_type": "error",
          "traceback": [
            "\u001b[0;31m---------------------------------------------------------------------------\u001b[0m",
            "\u001b[0;31mTypeError\u001b[0m                                 Traceback (most recent call last)",
            "\u001b[0;32m<ipython-input-7-32c0b1374b27>\u001b[0m in \u001b[0;36m<module>\u001b[0;34m\u001b[0m\n\u001b[1;32m      5\u001b[0m         \u001b[0mprint\u001b[0m\u001b[0;34m(\u001b[0m\u001b[0;34m\"muevete\"\u001b[0m\u001b[0;34m)\u001b[0m\u001b[0;34m\u001b[0m\u001b[0;34m\u001b[0m\u001b[0m\n\u001b[1;32m      6\u001b[0m \u001b[0;34m\u001b[0m\u001b[0m\n\u001b[0;32m----> 7\u001b[0;31m \u001b[0mperro\u001b[0m\u001b[0;34m=\u001b[0m\u001b[0mAnimal\u001b[0m\u001b[0;34m(\u001b[0m\u001b[0;34m)\u001b[0m\u001b[0;34m\u001b[0m\u001b[0;34m\u001b[0m\u001b[0m\n\u001b[0m\u001b[1;32m      8\u001b[0m \u001b[0mperro\u001b[0m\u001b[0;34m.\u001b[0m\u001b[0mmover\u001b[0m\u001b[0;34m(\u001b[0m\u001b[0;34m)\u001b[0m\u001b[0;34m\u001b[0m\u001b[0;34m\u001b[0m\u001b[0m\n",
            "\u001b[0;31mTypeError\u001b[0m: Can't instantiate abstract class Animal with abstract methods mover"
          ]
        }
      ],
      "source": [
        "from abc import ABC, abstractmethod\n",
        "class Animal(ABC):\n",
        "    @abstractmethod\n",
        "    def mover(self):\n",
        "        print(\"muevete\")\n",
        "    \n",
        "perro=Animal()\n",
        "perro.mover()\n"
      ]
    },
    {
      "cell_type": "markdown",
      "metadata": {
        "id": "3cneOT6x4WxY"
      },
      "source": [
        "EXPLICAR LO QUE SIGNIFICA ABC ENTRE LOS PARETNESIS Y EL DECORADOR "
      ]
    },
    {
      "cell_type": "code",
      "execution_count": 11,
      "metadata": {
        "colab": {
          "base_uri": "https://localhost:8080/"
        },
        "id": "6lHSgRo529-W",
        "outputId": "aa043f72-1add-49c6-9642-d639ded1dfec"
      },
      "outputs": [
        {
          "name": "stdout",
          "output_type": "stream",
          "text": [
            "muevete\n"
          ]
        }
      ],
      "source": [
        "from abc import ABC, abstractmethod\n",
        "class Animal():\n",
        "    @abstractmethod\n",
        "    def mover(self):\n",
        "        print(\"muevete\")\n",
        "    \n",
        "perro=Animal()\n",
        "perro.mover()"
      ]
    },
    {
      "cell_type": "code",
      "execution_count": 12,
      "metadata": {
        "colab": {
          "base_uri": "https://localhost:8080/",
          "height": 255
        },
        "id": "TqxDbAtPIO9b",
        "outputId": "d7719d79-ca65-4dc4-f51e-042586840ddb"
      },
      "outputs": [
        {
          "ename": "TypeError",
          "evalue": "ignored",
          "output_type": "error",
          "traceback": [
            "\u001b[0;31m---------------------------------------------------------------------------\u001b[0m",
            "\u001b[0;31mTypeError\u001b[0m                                 Traceback (most recent call last)",
            "\u001b[0;32m<ipython-input-12-105c476ef7fc>\u001b[0m in \u001b[0;36m<module>\u001b[0;34m\u001b[0m\n\u001b[1;32m     14\u001b[0m \u001b[0;34m\u001b[0m\u001b[0m\n\u001b[1;32m     15\u001b[0m \u001b[0;34m\u001b[0m\u001b[0m\n\u001b[0;32m---> 16\u001b[0;31m \u001b[0mmichi\u001b[0m \u001b[0;34m=\u001b[0m \u001b[0mGato\u001b[0m\u001b[0;34m(\u001b[0m\u001b[0;34m)\u001b[0m \u001b[0;31m# Error\u001b[0m\u001b[0;34m\u001b[0m\u001b[0;34m\u001b[0m\u001b[0m\n\u001b[0m",
            "\u001b[0;31mTypeError\u001b[0m: Can't instantiate abstract class Gato with abstract methods comer"
          ]
        }
      ],
      "source": [
        "from abc import ABC, abstractmethod\n",
        "class Animal(ABC):\n",
        "    @abstractmethod\n",
        "    def mover(self):\n",
        "        pass\n",
        "    \n",
        "    @abstractmethod\n",
        "    def comer(self):\n",
        "        print('Animal come')\n",
        "        \n",
        "class Gato(Animal):\n",
        "    def mover(self):\n",
        "        print('Mover gato')\n",
        "\n",
        "        \n",
        "michi = Gato() # Error\n"
      ]
    },
    {
      "cell_type": "code",
      "execution_count": 17,
      "metadata": {
        "colab": {
          "base_uri": "https://localhost:8080/"
        },
        "id": "Uu597iN94lXw",
        "outputId": "542eb501-24ad-4de2-8b98-b24cfaf0ab96"
      },
      "outputs": [
        {
          "name": "stdout",
          "output_type": "stream",
          "text": [
            "Mover gato\n",
            "Animal come\n",
            "Gato come\n",
            "el gato salta en 4 patas\n"
          ]
        }
      ],
      "source": [
        "from abc import ABC, abstractmethod\n",
        "class Animal(ABC):\n",
        "    @abstractmethod\n",
        "    def mover(self):\n",
        "        pass\n",
        "    \n",
        "    @abstractmethod\n",
        "    def comer(self):\n",
        "        print('Animal come')\n",
        "        \n",
        "class Gato(Animal):\n",
        "    def mover(self):\n",
        "        print('Mover gato')\n",
        "        \n",
        "    def comer(self):\n",
        "        super().comer()\n",
        "        print('Gato come')\n",
        "\n",
        "    def salta(self):\n",
        "      print(\"el gato salta en 4 patas\")\n",
        "\n",
        "   \n",
        "        \n",
        "g = Gato()\n",
        "g.mover()\n",
        "g.comer()\n",
        "g.salta()\n"
      ]
    }
  ],
  "metadata": {
    "colab": {
      "provenance": []
    },
    "kernelspec": {
      "display_name": "Python 3",
      "name": "python3"
    },
    "language_info": {
      "name": "python"
    }
  },
  "nbformat": 4,
  "nbformat_minor": 0
}
